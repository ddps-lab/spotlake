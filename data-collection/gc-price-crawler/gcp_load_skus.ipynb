{
 "cells": [
  {
   "cell_type": "code",
   "execution_count": 1,
   "metadata": {},
   "outputs": [],
   "source": [
    "from google.cloud import billing_v1\n",
    "from google.protobuf.json_format import MessageToDict\n",
    "import pandas as pd"
   ]
  },
  {
   "cell_type": "code",
   "execution_count": 2,
   "metadata": {},
   "outputs": [],
   "source": [
    "# GET service list\n",
    "def getServiceList():\n",
    "    service_request = billing_v1.ListServicesRequest()\n",
    "    return client.list_services(request=service_request)\n"
   ]
  },
  {
   "cell_type": "code",
   "execution_count": 3,
   "metadata": {},
   "outputs": [],
   "source": [
    "# GET skus list\n",
    "def getSkusList(service_name):\n",
    "    page_result_list = []\n",
    "    sku_request = billing_v1.ListSkusRequest(parent=service_name)\n",
    "    page_result = client.list_skus(request=sku_request)\n",
    "    page_result_list.append(page_result.skus)\n",
    "\n",
    "    while(page_result.next_page_token != '') :\n",
    "        sku_request = billing_v1.ListSkusRequest(parent=service_name, page_token=page_result.next_page_token)\n",
    "        page_result = client.list_skus(request=sku_request)\n",
    "        page_result_list.append(page_result.skus)\n",
    "            \n",
    "    return page_result_list\n",
    "    "
   ]
  },
  {
   "cell_type": "markdown",
   "metadata": {},
   "source": [
    "Main"
   ]
  },
  {
   "cell_type": "code",
   "execution_count": 4,
   "metadata": {},
   "outputs": [],
   "source": [
    "global client \n",
    "client = billing_v1.CloudCatalogClient()"
   ]
  },
  {
   "cell_type": "code",
   "execution_count": 5,
   "metadata": {},
   "outputs": [],
   "source": [
    "# get service result\n",
    "service_page_result = getServiceList()"
   ]
  },
  {
   "cell_type": "code",
   "execution_count": 6,
   "metadata": {},
   "outputs": [],
   "source": [
    "# add service informations to list\n",
    "service_name_list= []\n",
    "service_service_id_list = []\n",
    "service_display_name_list = []\n",
    "service_business_entity_name_list=[]\n",
    "for service in service_page_result:\n",
    "    service_name_list.append(service.name)\n",
    "    service_service_id_list.append(service.service_id)\n",
    "    service_display_name_list.append(service.display_name)\n",
    "    service_business_entity_name_list.append(service.business_entity_name)\n",
    "\n",
    "# make service lists to dataframe\n",
    "df_service = pd.DataFrame()\n",
    "add_df_service = {'name':service_name_list, 'service_id' : service_service_id_list, 'display_name' : service_display_name_list, 'business_entity_name' : service_business_entity_name_list}\n",
    "for key in add_df_service.keys():\n",
    "    df_service[key] = add_df_service[key]"
   ]
  },
  {
   "cell_type": "code",
   "execution_count": 7,
   "metadata": {},
   "outputs": [],
   "source": [
    "# extract service to find its skus\n",
    "find_service_list= []\n",
    "find_service_list.append(df_service.loc[df_service['display_name'] == 'Compute Engine'])"
   ]
  },
  {
   "cell_type": "code",
   "execution_count": 8,
   "metadata": {},
   "outputs": [],
   "source": [
    "# get skus information and add to list\n",
    "skus_page_result = []\n",
    "for service in find_service_list:\n",
    "    skus_page_result = getSkusList(service['name'].values[0])"
   ]
  },
  {
   "cell_type": "code",
   "execution_count": 9,
   "metadata": {},
   "outputs": [],
   "source": [
    "# make skus list\n",
    "skus_list = []\n",
    "for page in skus_page_result:\n",
    "    for sku in page:\n",
    "        skus_list.append(sku)"
   ]
  },
  {
   "cell_type": "code",
   "execution_count": 10,
   "metadata": {},
   "outputs": [],
   "source": [
    "# add sku informaions to list\n",
    "sku_service_display_name = []\n",
    "sku_name_list = []\n",
    "sku_sku_id_list = []\n",
    "sku_description_list = []\n",
    "sku_resource_family_list = []\n",
    "sku_resource_group_list = []\n",
    "sku_usage_type_list = []\n",
    "sku_service_regions_list = []\n",
    "sku_pricing_info_list = []\n",
    "sku_service_provider_name_list = []\n",
    "\n",
    "for sku in skus_list:\n",
    "    sku_service_display_name.append(sku.category.service_display_name)\n",
    "    sku_name_list.append(sku.name)\n",
    "    sku_sku_id_list.append(sku.sku_id)\n",
    "    sku_description_list.append(sku.description)\n",
    "    sku_resource_family_list.append(sku.category.resource_family)\n",
    "    sku_resource_group_list.append(sku.category.resource_group)\n",
    "    sku_usage_type_list.append(sku.category.usage_type)\n",
    "    sku_service_regions_list.append(sku.service_regions)\n",
    "    sku_pricing_info_list.append(sku.pricing_info)\n",
    "    sku_service_provider_name_list.append(sku.service_provider_name)"
   ]
  },
  {
   "cell_type": "code",
   "execution_count": 11,
   "metadata": {},
   "outputs": [],
   "source": [
    "# make sku dataframe\n",
    "df_sku = pd.DataFrame()\n",
    "add_df_sku = {'service_display_name':sku_service_display_name, \n",
    "                    'name': sku_name_list,\n",
    "                    'sku_id' : sku_sku_id_list,\n",
    "                    'description' : sku_description_list,\n",
    "                    'resource_family' : sku_resource_family_list,\n",
    "                    'resource_group' : sku_resource_group_list,\n",
    "                    'usage_type' : sku_usage_type_list,\n",
    "                    'service_regions' : sku_service_regions_list,\n",
    "                    'pricing_info' : sku_pricing_info_list,\n",
    "                    'service_provicer_name' : sku_service_provider_name_list}\n",
    "\n",
    "for key in add_df_sku.keys():\n",
    "    df_sku[key] = add_df_sku[key]"
   ]
  }
 ],
 "metadata": {
  "kernelspec": {
   "display_name": "Python 3.10.4 64-bit",
   "language": "python",
   "name": "python3"
  },
  "language_info": {
   "codemirror_mode": {
    "name": "ipython",
    "version": 3
   },
   "file_extension": ".py",
   "mimetype": "text/x-python",
   "name": "python",
   "nbconvert_exporter": "python",
   "pygments_lexer": "ipython3",
   "version": "3.10.4"
  },
  "orig_nbformat": 4,
  "vscode": {
   "interpreter": {
    "hash": "dfeb6f9788d16a221a085043db70ed2dd191136b365dfd9b4361e8492f1b538b"
   }
  }
 },
 "nbformat": 4,
 "nbformat_minor": 2
}
